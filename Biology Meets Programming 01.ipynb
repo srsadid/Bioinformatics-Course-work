{
 "cells": [
  {
   "cell_type": "markdown",
   "metadata": {},
   "source": [
    "## finding the length of a string"
   ]
  },
  {
   "cell_type": "code",
   "execution_count": null,
   "metadata": {},
   "outputs": [],
   "source": [
    "def length_of_gene(text):\n",
    "    print(len(text))\n",
    "\n",
    "ori = \"ATCAATGATCAACGTAAGCTTCTAAGCATGATCAAGGTGCTCACACAGTTTATCCACAACCTGAGTGGATGACATCAAGATAGGTCGTTGTATCTCCTTCCTCTCGTACTCTCATGACCACGGAAAGATGATCAAGAGAGGATGATTTCTTGGCCATATCGCAATGAATACTTGTGACTTGTGCTTCCAATTGACATCTTCAGCGCCATATTGCGCTGGCCAAGGTGACGGAGCGGGATTACGAAAGCATGATCATGGCTGTTGTTCTGTTTATCTTGTTTTGACTGAGACTTGTTAGGATAGACGGTTTTTCATCACTGACTAGCCAAAGCCTTACTCTGCCTGACATCGACCGTAAATTGATAATGAATTTACATGCTTCCGCGACGATTTACCTCTTGATCATCGATCCGATTGAAGATCTTCAATTGTTAATTCTCTTGCCTCGACTCATAGCCATGATGAGCTCTTGATCATGTTTCCTTAACCCTCTATTTTTTACGGAAGAATGATCAAGCTGCTGCTCTTGATCATCGTTTC\"\n",
    "length_of_gene(ori)\n"
   ]
  },
  {
   "cell_type": "markdown",
   "metadata": {},
   "source": [
    "## finding the number of recurring SPECIFIC patterns in a text sequence"
   ]
  },
  {
   "cell_type": "code",
   "execution_count": 13,
   "metadata": {
    "scrolled": true
   },
   "outputs": [
    {
     "name": "stdout",
     "output_type": "stream",
     "text": [
      "The count is:  5\n"
     ]
    },
    {
     "data": {
      "text/plain": [
       "'\\n• Note that\\xa0PatternCount(\"ATA\",\\xa0\"CG.ATATAT.CC.ATA.G\")\\xa0is equal to 3 (not 2) \\nsince we should account for overlapping occurrences of\\xa0Pattern\\xa0in\\xa0Text.\\n\\n• Basically, DNA-binding proteins recognize specific DNA sequences to bind to (called their \"binding motif\"),\\nIf I have a protein that happens to bind to the sequence ATA, if I have a sequence ATATA in my genome, \\nthe protein can bind to either the first one (ATATA),\\xa0or\\xa0it can bind to the second one (ATATA\\ufeff). \\nBoth are equally valid DNA binding sites for the protein\\n\\n'"
      ]
     },
     "execution_count": 13,
     "metadata": {},
     "output_type": "execute_result"
    }
   ],
   "source": [
    "def PatternCount (sequence ,pattern):\n",
    "    k = len(pattern)\n",
    "    count = 0\n",
    "    for i in range (len(sequence) - k + 1):\n",
    "        ###starts from 0 in the text and ends till the (length of sequence-k)\n",
    "        ### as the limit in python is upto but not including, so we add 1 \n",
    "        window = sequence[i:i+k]\n",
    "        ### the size of the window is --> index to index+k \n",
    "        #print(window)\n",
    "        if window == pattern:\n",
    "            count = count+1\n",
    "            \n",
    "    #print(count)\n",
    "    return count\n",
    "\n",
    "sequence = \"CGCGATACGTTACATACATGATAGACCGCGCGCGATCATATCGCGATTATC\"\n",
    "pattern = \"CGCG\"\n",
    "\n",
    "print(\"The count is: \" ,PatternCount(sequence,pattern))\n",
    "\n",
    "r'''\n",
    "• Note that PatternCount(\"ATA\", \"CG.ATATAT.CC.ATA.G\") is equal to 3 (not 2) \n",
    "since we should account for overlapping occurrences of Pattern in Text.\n",
    "\n",
    "• Basically, DNA-binding proteins recognize specific DNA sequences to bind to (called their \"binding motif\"),\n",
    "If I have a protein that happens to bind to the sequence ATA, if I have a sequence ATATA in my genome, \n",
    "the protein can bind to either the first one (ATATA), or it can bind to the second one (ATATA﻿). \n",
    "Both are equally valid DNA binding sites for the protein\n",
    "\n",
    "'''"
   ]
  },
  {
   "cell_type": "markdown",
   "metadata": {},
   "source": [
    "## \t2. The frequent word patterns in a text sequence:"
   ]
  },
  {
   "cell_type": "code",
   "execution_count": 15,
   "metadata": {},
   "outputs": [],
   "source": [
    "### most frequent words with their repeating values\n",
    "\n",
    "def  FrequencyMap(text, k):\n",
    "    \n",
    "    freq = {}\n",
    "    n = len(text)\n",
    "    #print(n)\n",
    "    for i in range(n - k + 1):\n",
    "        window = text[i:i+k]\n",
    "        #print(window)\n",
    "        if window in freq.keys():\n",
    "            freq[window] = freq[window] + 1\n",
    "        else:\n",
    "            freq[window] =  1\n",
    "    #print(freq_max)\n",
    "    return freq\n",
    "\n",
    "#k = 3\n",
    "#sequence = 'CGATATATCCATAG'\n",
    "#print(FrequencyMap(sequence, k))\n",
    "        "
   ]
  },
  {
   "cell_type": "markdown",
   "metadata": {},
   "source": [
    "# The frequent word patterns in a text sequence:"
   ]
  },
  {
   "cell_type": "code",
   "execution_count": 16,
   "metadata": {},
   "outputs": [
    {
     "name": "stdout",
     "output_type": "stream",
     "text": [
      "['GTG']\n"
     ]
    }
   ],
   "source": [
    "\n",
    "###thw words that are frequent\n",
    "def FrequentWords(Text, k):\n",
    "    words = []\n",
    "    freq = FrequencyMap(Text, k)\n",
    "    m = max(freq.values())\n",
    "    for key in freq:\n",
    "        if freq[key] == m:\n",
    "            words.append(key)\n",
    "    #print(m)\n",
    "    return words\n",
    "\n",
    "Text = \"TAAACGTGAGAGAAACGTGCTGATTACACTTGTTCGTGTGGTAT\"\n",
    "k = 3\n",
    "print(FrequentWords(Text,k))"
   ]
  },
  {
   "cell_type": "markdown",
   "metadata": {},
   "source": [
    "## finding the reverse compliment of a dna strand "
   ]
  },
  {
   "cell_type": "code",
   "execution_count": 17,
   "metadata": {},
   "outputs": [
    {
     "name": "stdout",
     "output_type": "stream",
     "text": [
      "AGCTAGC\n"
     ]
    }
   ],
   "source": [
    "def Reverse_compliment(pattern):\n",
    "    \n",
    "    dna_comp = {\"A\":\"T\" , \"T\":\"A\" , \"G\":\"C\" , \"C\":\"G\"}\n",
    "    rev_pattern = pattern[:: -1]\n",
    "    compliment = \"\"\n",
    "    for i in rev_pattern:\n",
    "        compliment = compliment+dna_comp.get(i)\n",
    "    return compliment\n",
    "\n",
    "pattern = 'GCTAGCT'\n",
    "print(Reverse_compliment(pattern))"
   ]
  },
  {
   "cell_type": "markdown",
   "metadata": {},
   "source": [
    "## Pattern Matching Problem"
   ]
  },
  {
   "cell_type": "code",
   "execution_count": 8,
   "metadata": {},
   "outputs": [
    {
     "name": "stdout",
     "output_type": "stream",
     "text": [
      "[0, 9, 18]\n"
     ]
    }
   ],
   "source": [
    "\n",
    "def PatternMatching(pattern, sequence):\n",
    "    k = len(pattern)\n",
    "    n = len(sequence)\n",
    "    count = []\n",
    "    for i in range(n - k + 1):\n",
    "        #print(i)\n",
    "        window = sequence[i : i+k]\n",
    "        #print(window)\n",
    "        if window == pattern:\n",
    "            count.append(i)\n",
    "    return count\n",
    "\n",
    "pattern = \"CTTGATCAT\"\n",
    "sequence = \"CTTGATCATCTTGATCATCTTGATCAT\"\n",
    "\n",
    "print(PatternMatching(pattern, sequence))"
   ]
  },
  {
   "cell_type": "markdown",
   "metadata": {},
   "source": [
    "### the sequence \"ATGATCAAG\"/\"CTTGATCAT\" is not present is Thermotoga petrophila"
   ]
  },
  {
   "cell_type": "code",
   "execution_count": 12,
   "metadata": {},
   "outputs": [
    {
     "name": "stdout",
     "output_type": "stream",
     "text": [
      "0\n"
     ]
    }
   ],
   "source": [
    "r'''\n",
    "# Copy your PatternCount function below here\n",
    "def PatternCount(sequence,pattern):\n",
    "    k = len(pattern)\n",
    "    count = 0\n",
    "    for i in range(len(sequence) - k + 1):\n",
    "        window = sequence[i:i + k]\n",
    "        ### the size of the window is --> index to index+k \n",
    "        #print(window)\n",
    "        if window == pattern:\n",
    "            count = count + 1\n",
    "    return count\n",
    "\n",
    "# On the following line, create a variable called Text that is equal to the oriC region from T petrophila\n",
    "Text=\"AACTCTATACCTCCTTTTTGTCGAATTTGTGTGATTTATAGAGAAAATCTTATTAACTGAAACTAAAATGGTAGGTTTGGTGGTAGGTTTTGTGTACATTTTGTAGTATCTGATTTTTAATTACATACCGTATATTGTATTAAATTGACGAACAATTGCATGGAATTGAATATATGCAAAACAAACCTACCACCAAACTCTGTATTGACCATTTTAGGACAACTTCAGGGTGGTAGGTTTCTGAAGCTCTCATCAATAGACTATTTTAGTCTTTACAAACAATATTACCGTTCAGATTCAAGATTCTACAACGCTGTTTTAATGGGCGTTGCAGAAAACTTACCACCTAAAATCCAGTATCCAAGCCGATTTCAGAGAAACCTACCACTTACCTACCACTTACCTACCACCCGGGTGGTAAGTTGCAGACATTATTAAAAACCTCATCAGAAGCTTGTTCAAAAATTTCAATACTCGAAACCTACCACCTGCGTCCCCTATTATTTACTACTACTAATAATAGCAGTATAATTGATCTGA\"\n",
    "\n",
    "# On the following line, create a variable called count_1 that is equal to the number of times\n",
    "# that \"ATGATCAAG\" occurs in Text.\n",
    "pattern1 = \"ATGATCAAG\"\n",
    "\n",
    "count_1 = PatternCount(Text , pattern1)\n",
    "\n",
    "\n",
    "# On the following line, create a variable called count_2 that is equal to the number of times\n",
    "# that \"CTTGATCAT\" occurs in Text. \n",
    "pattern2 = \"CTTGATCAT\"\n",
    "\n",
    "count_2 = PatternCount(Text , pattern2)\n",
    "\n",
    "# Finally, print the sum of count_1 and count_2\n",
    "\n",
    "count = count_1+count_2\n",
    "print(count)\n",
    "'''"
   ]
  },
  {
   "cell_type": "code",
   "execution_count": null,
   "metadata": {},
   "outputs": [],
   "source": []
  }
 ],
 "metadata": {
  "kernelspec": {
   "display_name": "Python 3",
   "language": "python",
   "name": "python3"
  },
  "language_info": {
   "codemirror_mode": {
    "name": "ipython",
    "version": 3
   },
   "file_extension": ".py",
   "mimetype": "text/x-python",
   "name": "python",
   "nbconvert_exporter": "python",
   "pygments_lexer": "ipython3",
   "version": "3.6.4"
  }
 },
 "nbformat": 4,
 "nbformat_minor": 4
}
