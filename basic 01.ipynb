{
 "cells": [
  {
   "cell_type": "code",
   "execution_count": null,
   "metadata": {},
   "outputs": [],
   "source": []
  },
  {
   "cell_type": "code",
   "execution_count": 5,
   "metadata": {},
   "outputs": [
    {
     "name": "stdout",
     "output_type": "stream",
     "text": [
      "23\n"
     ]
    },
    {
     "data": {
      "text/plain": [
       "\"\\nIf you aren't breaking it up into chunks of 4 and are iterating over the length of the loop, it gives 5 CGCG's.\\n\\nCGCGATACGTTACATACATGATAGACCGCGCGCGATCATATCGCGATTATC\\n\\n^ That is 2 of them.\\n\\nThe other 3 are within each other.\\n\\nCGCGCGCG\\n\\nThis contains 3 CGCG pairs.\\n\\nFrom position 1 to position 4.\\n\\nFrom position 3 to position 6.\\n\\nFrom position 5 to position 8.\\n\\nIn total, you have 5 different CGCG's.\\nr\""
      ]
     },
     "execution_count": 5,
     "metadata": {},
     "output_type": "execute_result"
    }
   ],
   "source": [
    "def PatternCount(Pattern, Text):\n",
    "    count = 0\n",
    "    for i in range(len(Text)-len(Pattern)+1):\n",
    "        if Text[i:i+len(Pattern)] == Pattern:\n",
    "            count = count+1\n",
    "    return count \n",
    "\n",
    "print (PatternCount(\"CGTCCGACG\", \n",
    "\"CGTCCGACTTCCATACCACGTATCATCTTCCGTCCGACGTCCGACGTCCGATCACGTCCGAATCGTCCGATAATTAGTCGTCCGAACCGTCCGAAGCGTCCGATCGTCCGACGTCCGATGCGTCCGACGTCCGACGTCCGAGCCGTCCGACGTCCGACACTACCCGTCCGACCGTCCGAACGTCCGATCGTCCGAGCGTCCGACGTCCGAACGTCCGAAATGATGCCGTCCGATCGTCCGAATCATCGTCCGAGCGTCCGAGCTATGCGTCCGATACACAAAACGTGACGTCCGATGCGCACGTCCGATCGCGTCCGAGAACGTCCGAGGCGTCCGAATTTTCACGTCCGACGTCCGACCTCGTCCGATACTTAGGAAGCGTCCGAAGCACGTCCGAGCGTCCGAGCGTCCGACGTCCGAAGCGTCCGACCGTCCGAACGTCCGACGTCCGACACGTCCGAATCCGTCCGACGTCCGATGTCCGTCCGACCGTCCGATCCGTCCGATCAGAACGTCCGAGACGTCCGAGACTAATCGTCCGAGCCGTCCGACGTCCGACTCCAGCGTCCGACGTCCGAGGCACGTCCGAGACCGTCCGATTCGTCCGAGCCCCCGGACGTCCGAGCGTCCGACGTCCGACGTCCGAGACGTCCGACGTCCGACGTCCGAGGCTGTCAGTGCGTCCGACCGTCCGAGCAGGCCGTCCGAAACGTCCGACTCCCATCGTCCGACAACGTCCGATCGTCCGAACCGTCCGAATACGTCCGACGTCCGAGTTCTAGGGCGTCCGACTTCGTCCGAGCGTCCGACGTCCGATGCGTCCGACGGGACGTCCGAGACGTCCGAACCGCGTCCGAACAGCGTCCGATCGTCCGATTGTCAATTATGTGTTCCGTCCGATCTGGCACGTCCGACGTCCGATGCGTCCGAAGTCGTCCGAGGAATCGTCCGAGCGTCCGACGTCCGACTCGCCGGCGTCCGAGCGTCCGACGTCCGAACGGTCGTCCGATGGCGTCCGATACGTCCGACCCGTCCGA\"))\n",
    "\n",
    "r'''\n",
    "If you aren't breaking it up into chunks of 4 and are iterating over the length of the loop, it gives 5 CGCG's.\n",
    "\n",
    "CGCGATACGTTACATACATGATAGACCGCGCGCGATCATATCGCGATTATC\n",
    "\n",
    "^ That is 2 of them.\n",
    "\n",
    "The other 3 are within each other.\n",
    "\n",
    "CGCGCGCG\n",
    "\n",
    "This contains 3 CGCG pairs.\n",
    "\n",
    "From position 1 to position 4.\n",
    "\n",
    "From position 3 to position 6.\n",
    "\n",
    "From position 5 to position 8.\n",
    "\n",
    "In total, you have 5 different CGCG's.\n",
    "r'''"
   ]
  },
  {
   "cell_type": "code",
   "execution_count": 4,
   "metadata": {},
   "outputs": [
    {
     "data": {
      "text/plain": [
       "Counter({'TAA': 1,\n",
       "         'AAA': 2,\n",
       "         'AAC': 2,\n",
       "         'ACG': 2,\n",
       "         'CGT': 3,\n",
       "         'GTG': 4,\n",
       "         'TGA': 2,\n",
       "         'GAG': 2,\n",
       "         'AGA': 2,\n",
       "         'GAA': 1,\n",
       "         'TGC': 1,\n",
       "         'GCT': 1,\n",
       "         'CTG': 1,\n",
       "         'GAT': 1,\n",
       "         'ATT': 1,\n",
       "         'TTA': 1,\n",
       "         'TAC': 1,\n",
       "         'ACA': 1,\n",
       "         'CAC': 1,\n",
       "         'ACT': 1,\n",
       "         'CTT': 1,\n",
       "         'TTG': 1,\n",
       "         'TGT': 2,\n",
       "         'GTT': 1,\n",
       "         'TTC': 1,\n",
       "         'TCG': 1,\n",
       "         'TGG': 1,\n",
       "         'GGT': 1,\n",
       "         'GTA': 1,\n",
       "         'TAT': 1})"
      ]
     },
     "execution_count": 4,
     "metadata": {},
     "output_type": "execute_result"
    }
   ],
   "source": [
    "from collections import Counter\n",
    "\n",
    "def get_all_k_mer(string, k=1):\n",
    "   length = len(string)\n",
    "   return [string[i: i+ k] for i in range(length-k+1)]\n",
    "s = 'TAAACGTGAGAGAAACGTGCTGATTACACTTGTTCGTGTGGTAT'\n",
    "Counter(get_all_k_mer(s, k=3))"
   ]
  },
  {
   "cell_type": "code",
   "execution_count": 17,
   "metadata": {},
   "outputs": [
    {
     "name": "stdout",
     "output_type": "stream",
     "text": [
      "3\n"
     ]
    }
   ],
   "source": [
    "def PatternCount(Pattern, Text):\n",
    "    count = 0\n",
    "    for i in range(len(Text)-len(Pattern)+1):\n",
    "        if Text[i:i+len(Pattern)] == Pattern:\n",
    "            count = count+1\n",
    "    return count \n",
    "\n",
    "print (PatternCount(\"AA\", \"AAACATAGGATCAAC \"))"
   ]
  },
  {
   "cell_type": "code",
   "execution_count": null,
   "metadata": {},
   "outputs": [],
   "source": []
  }
 ],
 "metadata": {
  "kernelspec": {
   "display_name": "Python 3",
   "language": "python",
   "name": "python3"
  },
  "language_info": {
   "codemirror_mode": {
    "name": "ipython",
    "version": 3
   },
   "file_extension": ".py",
   "mimetype": "text/x-python",
   "name": "python",
   "nbconvert_exporter": "python",
   "pygments_lexer": "ipython3",
   "version": "3.6.4"
  }
 },
 "nbformat": 4,
 "nbformat_minor": 4
}
