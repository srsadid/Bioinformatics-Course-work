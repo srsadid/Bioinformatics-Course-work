{
 "cells": [
  {
   "cell_type": "markdown",
   "metadata": {},
   "source": [
    "## counting the position and number of Citocine in a circular gene"
   ]
  },
  {
   "cell_type": "code",
   "execution_count": null,
   "metadata": {},
   "outputs": [],
   "source": [
    "def SymbolArray(Genome, symbol):\n",
    "    array = {} #TAKE DICT TO STORE THE POSITION OF THE GENOME AND THE REPEATED COUNT \n",
    "    n = len(Genome) # LEN OF GENOME \n",
    "    ExtendedGenome = Genome + Genome[0:n//2] # TO MAKE THE DNA CIRCULAR WE ADD THE FIRST HALF WITH THE LAST\n",
    "    for i in range(n):\n",
    "        #LOOP FOR N TIMES \n",
    "        array[i] = PatternCount(symbol, ExtendedGenome[i:i+(n//2)])\n",
    "        \n",
    "    return array\n",
    "###########################################################################\n",
    "def PatternCount (pattern , sequence):\n",
    "    k = len(pattern)\n",
    "    count = 0\n",
    "    for i in range (len(sequence) - k + 1):\n",
    "        ###starts from 0 in the text and ends till the (length of sequence-k)\n",
    "        ### as the limit in python is upto but not including, so we add 1 \n",
    "        window = sequence[i:i+k]\n",
    "        ### the size of the window is --> index to index+k \n",
    "        #print(window)\n",
    "        if window == pattern:\n",
    "            count = count+1\n",
    "            \n",
    "    #print(count)\n",
    "    return count\n",
    "\n",
    "\n",
    "\n",
    "\n",
    "\n",
    "r\"\"\"\n",
    "-----------------------------------------------------------\n",
    "Genome = \"AAAAGGGG\"\n",
    "Symbol = \"A\"\n",
    "{0: 4, 1: 3, 2: 2, 3: 1, 4: 0, 5: 1, 6: 2, 7: 3}\n",
    "------------------------------------------------------------\n",
    "A A A A G G G G \n",
    "len = 8\n",
    "circular dna len = 8 + [0:len/2]\n",
    "circular Dna = A A A A G G G G A A A A\n",
    "{0(A)A: 4 (A A A A), \n",
    "1(A): 3 (A A A g),\n",
    "2(A): 2 (A A G G),\n",
    "3(A): 1 (A G G G),\n",
    "4(G): 0 (G G G G),\n",
    "5(G): 1 (G G G A),\n",
    "6(G): 2 (G G A A),\n",
    "7(G): 3 (G A A A)}\n",
    "r\"\"\""
   ]
  },
  {
   "cell_type": "code",
   "execution_count": null,
   "metadata": {},
   "outputs": [],
   "source": [
    "Genome = \"AAAAGGGG\"\n",
    "Symbol = \"A\"\n",
    "print(SymbolArray(Genome,Symbol))\n",
    "\n",
    "######\n"
   ]
  },
  {
   "cell_type": "code",
   "execution_count": null,
   "metadata": {},
   "outputs": [],
   "source": []
  },
  {
   "cell_type": "code",
   "execution_count": null,
   "metadata": {},
   "outputs": [],
   "source": []
  },
  {
   "cell_type": "code",
   "execution_count": null,
   "metadata": {},
   "outputs": [],
   "source": [
    "def FasterSymbolArray(Genome, symbol):\n",
    "    array = {}\n",
    "    n = len(Genome)\n",
    "    ExtendedGenome = Genome + Genome[0:n//2]\n",
    "\n",
    "    # look at the first half of Genome to compute first array value\n",
    "    array[0] = PatternCount(symbol, Genome[0:n//2])\n",
    "    print(array[0])\n",
    "    print(\"\\n\")\n",
    "    \n",
    "    for i in range(1, n):\n",
    "        # start by setting the current array value equal to the previous array value\n",
    "        print(i)\n",
    "        \n",
    "        array[i] = array[i-1]\n",
    "        \n",
    "        print(\"assume array\", i, \"is: \" , array[i])\n",
    "        print(\" array\", i-1 ,\"is: \" , array[i-1])\n",
    "        \n",
    "        # the current array value can differ from the previous array value by at most 1\n",
    "        print (\"genome\",   i ,\"is:\" ,ExtendedGenome[i])\n",
    "        \n",
    "        if ExtendedGenome[i-1] == symbol:\n",
    "            print(\"genome\",  i-1 ,\"is \", ExtendedGenome[i-1])\n",
    "            \n",
    "            array[i] = array[i]-1\n",
    "            \n",
    "        if ExtendedGenome[i+(n//2)-1] == symbol:\n",
    "            print(\"genome\",  i+4-1 , \"is\" , ExtendedGenome[i+(n//2)-1])\n",
    "            \n",
    "            array[i] = array[i]+1\n",
    "        \n",
    "        print(array)\n",
    "        print(\"\\n\")\n",
    "        \n",
    "    return array\n",
    "\n",
    "\n",
    "\n",
    "################################################################################\n",
    "r'''\n",
    "To begin with, we use PatternCount just once, to measure how many bases (Symbol) are \n",
    "in the window stretching from index 0 to index n//2. Remember, as I did not - we are \n",
    "trying to keep track of half of the genome's C bases because we want to look at the \n",
    "DNA stretching from ori to ter, and wherever those two are, we know that they will \n",
    "be a half - genome's length apart. That means we have to look at the whole genome in \n",
    "half-genome sized windows until we find a leading and lagging strand.\n",
    "\n",
    "if ExtendedGenome[i-1] == symbol:\n",
    "## this asks if the base that just disappeared out of our moving \n",
    "window was the same as the base we're looking for##\n",
    "\n",
    "   array[i] = array[i]-1\n",
    "## if so, we remove one from the number of bases in the current window##\n",
    "\n",
    "if ExtendedGenome[i+(n//2)-1] == symbol:\n",
    "## this asks if the base that just came into 'front' of the moving window \n",
    "is the same as the base we're looking for##\n",
    "\n",
    "array[i] = array[i]+1\n",
    "## if so, we add one to the number of bases in the current window##\n",
    "\n",
    "This means that each time the window moves, we remove any bases that have 'left' the window \n",
    "and add any that have 'entered'. This gives us a dictionary of each index position, \n",
    "and the sum of bases-of-interest leaving and entering, i.e. a live count of \n",
    "the number of bases in each window positi\n",
    "r'''\n",
    "\n",
    "#####################################\n",
    "r'''\n",
    "1\n",
    "assume array 1 is:  4\n",
    " array 0 is:  4\n",
    "genome 1 is: A\n",
    "genome 0 is  A\n",
    "{0: 4, 1: 3}\n",
    "\n",
    "\n",
    "2\n",
    "assume array 2 is:  3\n",
    " array 1 is:  3\n",
    "genome 2 is: A\n",
    "genome 1 is  A\n",
    "{0: 4, 1: 3, 2: 2}\n",
    "\n",
    "\n",
    "3\n",
    "assume array 3 is:  2\n",
    " array 2 is:  2\n",
    "genome 3 is: A\n",
    "genome 2 is  A\n",
    "{0: 4, 1: 3, 2: 2, 3: 1}\n",
    "\n",
    "\n",
    "4\n",
    "assume array 4 is:  1\n",
    " array 3 is:  1\n",
    "genome 4 is: G\n",
    "genome 3 is  A\n",
    "{0: 4, 1: 3, 2: 2, 3: 1, 4: 0}\n",
    "\n",
    "\n",
    "5\n",
    "assume array 5 is:  0\n",
    " array 4 is:  0\n",
    "genome 5 is: G\n",
    "genome 8 is A\n",
    "{0: 4, 1: 3, 2: 2, 3: 1, 4: 0, 5: 1}\n",
    "\n",
    "\n",
    "6\n",
    "assume array 6 is:  1\n",
    " array 5 is:  1\n",
    "genome 6 is: G\n",
    "genome 9 is A\n",
    "{0: 4, 1: 3, 2: 2, 3: 1, 4: 0, 5: 1, 6: 2}\n",
    "\n",
    "\n",
    "7\n",
    "assume array 7 is:  2\n",
    " array 6 is:  2\n",
    "genome 7 is: G\n",
    "genome 10 is A\n",
    "{0: 4, 1: 3, 2: 2, 3: 1, 4: 0, 5: 1, 6: 2, 7: 3}\n",
    "\n",
    "\n",
    "{0: 4, 1: 3, 2: 2, 3: 1, 4: 0, 5: 1, 6: 2, 7: 3}\n",
    "r'''"
   ]
  },
  {
   "cell_type": "code",
   "execution_count": null,
   "metadata": {},
   "outputs": [],
   "source": [
    "Genome = \"AAAAGGGG\"\n",
    "Symbol = \"A\"\n",
    "\n",
    "print(FasterSymbolArray(Genome,Symbol))"
   ]
  },
  {
   "cell_type": "markdown",
   "metadata": {},
   "source": [
    "## finding the skew array of G and C of a genome sequence "
   ]
  },
  {
   "cell_type": "code",
   "execution_count": 13,
   "metadata": {},
   "outputs": [
    {
     "data": {
      "text/plain": [
       "'\\nGiven a string Genome, we can form its skew array by setting Skew[0] equal to 0, \\nand then rangingthrough the genome.  At position i of Genome, if we encounter an A or a T, \\nwe set Skew[i+1] equal to Skew[i]; if we encounter a G, we set Skew[i+1] equal to Skew[i]+1; \\nif we encounter a C, we set Skew[i+1] equal to Skew[i]-1.\\nr'"
      ]
     },
     "execution_count": 13,
     "metadata": {},
     "output_type": "execute_result"
    }
   ],
   "source": [
    "import matplotlib.pyplot as plt\n",
    "\n",
    "def SkewArray(Genome):\n",
    "    Skew = []\n",
    "    Skew.append(0)\n",
    "    #print(len(Genome))\n",
    "    #Skew[0] = 0\n",
    "    for i in range(len(Genome)):\n",
    "        #print(\"value of i is\",i)\n",
    "        if Genome[i] == 'C':\n",
    "            Skew.append(Skew[i] - 1)\n",
    "            #print(Genome[i], \"--C\" , Skew[i]  )\n",
    "        elif Genome[i] == 'G':\n",
    "            Skew.append(Skew[i] + 1)\n",
    "            #print(Genome[i], \"--G\" , Skew[i])\n",
    "        else:\n",
    "            Skew.append(Skew[i])\n",
    "            #print(Genome[i] , \"--A or T\" , Skew[i])\n",
    "            \n",
    "    #plt.plot(Skew[:], marker='o')\n",
    "    #plt.show()\n",
    "    return Skew\n",
    "\n",
    "\n",
    "#-----------------------------\n",
    "r'''\n",
    "Given a string Genome, we can form its skew array by setting Skew[0] equal to 0, \n",
    "and then rangingthrough the genome.  At position i of Genome, if we encounter an A or a T, \n",
    "we set Skew[i+1] equal to Skew[i]; if we encounter a G, we set Skew[i+1] equal to Skew[i]+1; \n",
    "if we encounter a C, we set Skew[i+1] equal to Skew[i]-1.\n",
    "r'''"
   ]
  },
  {
   "cell_type": "code",
   "execution_count": 14,
   "metadata": {},
   "outputs": [
    {
     "name": "stdout",
     "output_type": "stream",
     "text": [
      "[0, 1, 1, 1, 1, 0, 0, -1, -1, -1, -2, -3, -4, -3, -3, -2, -2, -2, -1, 0, 0, 0, -1, -1, 0]\n",
      "2\n"
     ]
    }
   ],
   "source": [
    "Genome = 'GATACACTTCCCGAGTAGGTACTG'\n",
    "print(SkewArray(Genome))\n"
   ]
  },
  {
   "cell_type": "code",
   "execution_count": 8,
   "metadata": {},
   "outputs": [
    {
     "data": {
      "image/png": "[encoded data removed]",
      "text/plain": [
       "<Figure size 432x288 with 1 Axes>"
      ]
     },
     "metadata": {
      "needs_background": "light"
     },
     "output_type": "display_data"
    },
    {
     "name": "stdout",
     "output_type": "stream",
     "text": [
      "max position =  1550413\n",
      "min position =  3923620\n"
     ]
    }
   ],
   "source": [
    "#### extras\n",
    "\n",
    "# the skew diagram of e coli \n",
    "import matplotlib.pyplot as plt\n",
    "with open('E_coli.txt') as file:\n",
    "    genome = file.read()\n",
    "skew = SkewArray(genome)\n",
    "plt.plot(skew)\n",
    "plt.xlabel('genome position')\n",
    "plt.ylabel('skew')\n",
    "plt.show()\n",
    "\n",
    "##To find the position for  the maximum and minimum:\n",
    "min_val = skew.index(min(skew))\n",
    "\n",
    "print(\"max position = \" , max_val)\n",
    "print(\"min position = \" , min_val)"
   ]
  },
  {
   "cell_type": "code",
   "execution_count": null,
   "metadata": {},
   "outputs": [],
   "source": [
    "\n",
    "\n",
    "def MinimumSkew(Genome):\n",
    "    Positions = []\n",
    "    Array = SkewArray(Genome)\n",
    "    min_val = min(Array)\n",
    "    for i in range(len(Array)):\n",
    "        if Array[i] == min_val:\n",
    "            Positions.append(i)\n",
    "    return Positions\n",
    "\n",
    "\n",
    "def SkewArray(Genome):\n",
    "    Skew = []\n",
    "    Skew.append(0)\n",
    "    #print(len(Genome))\n",
    "    #Skew[0] = 0\n",
    "    for i in range(len(Genome)):\n",
    "        #print(\"value of i is\",i)\n",
    "        if Genome[i] == 'C':\n",
    "            Skew.append(Skew[i] - 1)\n",
    "            #print(Genome[i], \"--C\" , Skew[i]  )\n",
    "        elif Genome[i] == 'G':\n",
    "            Skew.append(Skew[i] + 1)\n",
    "            #print(Genome[i], \"--G\" , Skew[i])\n",
    "        else:\n",
    "            Skew.append(Skew[i])\n",
    "            #print(Genome[i] , \"--A or T\" , Skew[i])\n",
    "            \n",
    "    #plt.plot(Skew[:], marker='o')\n",
    "    #plt.show()\n",
    "    return Skew\n"
   ]
  },
  {
   "cell_type": "code",
   "execution_count": null,
   "metadata": {},
   "outputs": [],
   "source": [
    "Genome = \"TAAAGACTGCCGAGAGGCCAACACGAGTGCTAGAACGAGGGGCGTAAACGCGGGTCCGAT\"\n",
    "print(MinimumSkew(Genome))"
   ]
  },
  {
   "cell_type": "markdown",
   "metadata": {},
   "source": [
    "## Hamming distance"
   ]
  },
  {
   "cell_type": "code",
   "execution_count": null,
   "metadata": {},
   "outputs": [],
   "source": [
    "###\n",
    "r'''\n",
    "We say that position i in k-mers p and q is a mismatch if the symbols at position i of the two \n",
    "strings are not the same. The total number of mismatches between strings p and q is called \n",
    "the Hamming distance between these strings. \n",
    "We will let you implement a function to compute this distance, called HammingDistance(p, q).\n",
    "r'''\n",
    "\n",
    "\n",
    "\n",
    "def HammingDistance(p, q):\n",
    "    length = len(p)\n",
    "    #print(\"length of the strings is:\" , length)\n",
    "    count = 0 #count the number of mismatch in the strings\n",
    "    for i in range(length):\n",
    "        #print(i)\n",
    "        if p[i] == q[i] : \n",
    "            pass\n",
    "        else:\n",
    "            count = count+1\n",
    "\n",
    "    #print(count)\n",
    "    return count\n"
   ]
  },
  {
   "cell_type": "code",
   "execution_count": null,
   "metadata": {},
   "outputs": [],
   "source": [
    "p = \"GGGCCGTTGGT\"\n",
    "q = \"GGACCGTTGAC\"\n",
    "\n",
    "print(HammingDistance(p, q))"
   ]
  },
  {
   "cell_type": "markdown",
   "metadata": {},
   "source": [
    "## Approximate Pattern Matching Problem (finds the pattern in a text sequence with certain amount of mismatches)"
   ]
  },
  {
   "cell_type": "code",
   "execution_count": 1,
   "metadata": {},
   "outputs": [],
   "source": [
    "def HammingDistance(p, q):\n",
    "    length = len(p)\n",
    "    #print(\"length of the strings is:\" , length)\n",
    "    count = 0 #count the number of mismatch in the strings\n",
    "    for i in range(length):\n",
    "        #print(i)\n",
    "        if p[i] == q[i] : \n",
    "            pass\n",
    "        else:\n",
    "            count = count+1\n",
    "\n",
    "    #print(count)\n",
    "    return count\n",
    "\n",
    "def ApproximatePatternMatching(Text, Pattern, d):\n",
    "    k = len(Pattern) # k mer\n",
    "    #print(len(pattern))\n",
    "    n = len(Text)\n",
    "    position = []\n",
    "\n",
    "    for i in range(n - k + 1): # the range is discussed in the previous lession \n",
    "        #print(i)\n",
    "        window = Text[i : i+k]\n",
    "        #print(window)\n",
    "        if HammingDistance(window, Pattern) <= d:\n",
    "            position.append(i)\n",
    "    #print(position)\n",
    "    return position\n",
    "    #print(len(window))\n",
    "\n",
    "def ApproximatePatternCount(Text, Pattern, d):\n",
    "    count  = ApproximatePatternMatching(Text, Pattern, d)\n",
    "    return len(count)\n",
    "\n"
   ]
  },
  {
   "cell_type": "code",
   "execution_count": 2,
   "metadata": {},
   "outputs": [
    {
     "name": "stdout",
     "output_type": "stream",
     "text": [
      "4\n"
     ]
    }
   ],
   "source": [
    "#text = \"CGCCCGAATCCAGAACGCATTCCCATATTTCGGGACCACTGGCCTCCACGGTACGGACGTCAATCAAAT\"\n",
    "#p = \n",
    "#pattern = 'ATTCTGGA'\n",
    "#d = 3\n",
    "\n",
    "text = \"TTTAGAGCCTTCAGAGG\"\n",
    "#p = \n",
    "pattern = 'GAGG'\n",
    "d = 2\n",
    "print(ApproximatePatternCount(text, pattern, d))"
   ]
  },
  {
   "cell_type": "code",
   "execution_count": null,
   "metadata": {},
   "outputs": [],
   "source": []
  },
  {
   "cell_type": "code",
   "execution_count": null,
   "metadata": {},
   "outputs": [],
   "source": []
  },
  {
   "cell_type": "code",
   "execution_count": null,
   "metadata": {},
   "outputs": [],
   "source": []
  },
  {
   "cell_type": "code",
   "execution_count": null,
   "metadata": {},
   "outputs": [],
   "source": []
  }
 ],
 "metadata": {
  "kernelspec": {
   "display_name": "Python 3",
   "language": "python",
   "name": "python3"
  },
  "language_info": {
   "codemirror_mode": {
    "name": "ipython",
    "version": 3
   },
   "file_extension": ".py",
   "mimetype": "text/x-python",
   "name": "python",
   "nbconvert_exporter": "python",
   "pygments_lexer": "ipython3",
   "version": "3.6.4"
  }
 },
 "nbformat": 4,
 "nbformat_minor": 2
}
